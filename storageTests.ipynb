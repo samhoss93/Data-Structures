{
  "nbformat": 4,
  "nbformat_minor": 0,
  "metadata": {
    "colab": {
      "provenance": [],
      "authorship_tag": "ABX9TyPlbDE0H/Gnu+fePguodRLF",
      "include_colab_link": true
    },
    "kernelspec": {
      "name": "python3",
      "display_name": "Python 3"
    },
    "language_info": {
      "name": "python"
    }
  },
  "cells": [
    {
      "cell_type": "markdown",
      "metadata": {
        "id": "view-in-github",
        "colab_type": "text"
      },
      "source": [
        "<a href=\"https://colab.research.google.com/github/samhoss93/Data-Structures/blob/master/storageTests.ipynb\" target=\"_parent\"><img src=\"https://colab.research.google.com/assets/colab-badge.svg\" alt=\"Open In Colab\"/></a>"
      ]
    },
    {
      "cell_type": "code",
      "execution_count": 1,
      "metadata": {
        "colab": {
          "base_uri": "https://localhost:8080/"
        },
        "id": "NeAoYbJwqyT7",
        "outputId": "fdc7b91d-6d35-42fc-c72e-339b04d80e09"
      },
      "outputs": [
        {
          "output_type": "stream",
          "name": "stdout",
          "text": [
            " 1.0\n",
            " 2.0\n",
            " 3.0\n",
            " 4.0\n",
            " 5.0\n",
            "[torch.storage.TypedStorage(dtype=torch.float32, device=cpu) of size 5]\n"
          ]
        },
        {
          "output_type": "stream",
          "name": "stderr",
          "text": [
            "<ipython-input-1-675a7d7e75c4>:4: UserWarning: TypedStorage is deprecated. It will be removed in the future and UntypedStorage will be the only storage class. This should only matter to you if you are using storages directly.  To access UntypedStorage directly, use tensor.untyped_storage() instead of tensor.storage()\n",
            "  storage = torch.FloatStorage(5)  # Allocates space for 5 float numbers\n"
          ]
        }
      ],
      "source": [
        "import torch\n",
        "\n",
        "# Create a storage object explicitly\n",
        "storage = torch.FloatStorage(5)  # Allocates space for 5 float numbers\n",
        "\n",
        "# Assign values to storage\n",
        "storage[0] = 1.0\n",
        "storage[1] = 2.0\n",
        "storage[2] = 3.0\n",
        "storage[3] = 4.0\n",
        "storage[4] = 5.0\n",
        "\n",
        "print(storage)  # Output: [1.0, 2.0, 3.0, 4.0, 5.0]\n"
      ]
    },
    {
      "cell_type": "code",
      "source": [
        "tensor = torch.tensor([10, 20, 30, 40, 50])\n",
        "\n",
        "# Get the storage backing this tensor\n",
        "storage = tensor.storage()\n",
        "\n",
        "print(storage)  # Output: [10, 20, 30, 40, 50]\n"
      ],
      "metadata": {
        "colab": {
          "base_uri": "https://localhost:8080/"
        },
        "id": "5vYZjEQsrNPY",
        "outputId": "05a159dd-9db8-4645-a8cb-b2467153dd84"
      },
      "execution_count": 2,
      "outputs": [
        {
          "output_type": "stream",
          "name": "stdout",
          "text": [
            " 10\n",
            " 20\n",
            " 30\n",
            " 40\n",
            " 50\n",
            "[torch.storage.TypedStorage(dtype=torch.int64, device=cpu) of size 5]\n"
          ]
        }
      ]
    },
    {
      "cell_type": "code",
      "source": [
        "# Create a tensor from existing storage\n",
        "tensor1 = torch.tensor([1, 2, 3, 4, 5], dtype=torch.float32)\n",
        "storage1 = tensor1.storage()\n",
        "\n",
        "# Create another tensor sharing the same storage\n",
        "tensor2 = torch.tensor(storage1)\n",
        "\n",
        "# Modify storage\n",
        "storage1[2] = 99\n",
        "\n",
        "print(tensor1)  # Output: tensor([ 1,  2, 99,  4,  5])\n",
        "print(tensor2)  # Output: tensor([ 1,  2, 99,  4,  5])\n",
        "print(torch.is_tensor(tensor2))\n"
      ],
      "metadata": {
        "colab": {
          "base_uri": "https://localhost:8080/"
        },
        "id": "nE6Bx6IUrXT5",
        "outputId": "5eabb1e7-4cfc-4d5d-d2b6-c0212f8d444f"
      },
      "execution_count": 6,
      "outputs": [
        {
          "output_type": "stream",
          "name": "stdout",
          "text": [
            "tensor([ 1.,  2., 99.,  4.,  5.])\n",
            "tensor([ 1.,  2., 99.,  4.,  5.])\n",
            "True\n"
          ]
        }
      ]
    }
  ]
}